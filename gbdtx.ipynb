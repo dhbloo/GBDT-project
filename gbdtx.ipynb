{
 "cells": [
  {
   "cell_type": "code",
   "execution_count": 1,
   "metadata": {},
   "outputs": [],
   "source": [
    "import numpy as np \n",
    "import pandas as pd\n",
    "from sklearn import datasets\n",
    "from GBDTx.Gradientboost import GradientBoostClassifier"
   ]
  },
  {
   "cell_type": "code",
   "execution_count": 2,
   "metadata": {},
   "outputs": [],
   "source": [
    "train_df = pd.read_csv('./titanic/train.csv').fillna(0)\n",
    "test_df = pd.read_csv('./titanic/test.csv').fillna(0)\n",
    "#, 'SibSp', 'Parch'\n",
    "categorical_columns = ['Pclass', 'Sex', 'Embarked']\n",
    "numerical_columns = ['Age', 'Fare']\n",
    "drop_columns = ['PassengerId', 'Survived', 'Name', 'Ticket', 'Cabin']\n",
    "drop_columns1 = ['PassengerId', 'Name', 'Ticket', 'Cabin']\n",
    "\n",
    "train_df = pd.get_dummies(train_df, columns=categorical_columns, drop_first=True)\n",
    "test_df = pd.get_dummies(test_df, columns=categorical_columns, drop_first=True)\n",
    "\n",
    "x_train = train_df.drop(columns=drop_columns, axis=1).values\n",
    "y_train = train_df.Survived.values\n",
    "# x_test = test_df.drop(columns=drop_columns1, axis=1).values\n",
    "# y_test = test_df.Survived.values"
   ]
  },
  {
   "cell_type": "code",
   "execution_count": 3,
   "metadata": {},
   "outputs": [],
   "source": [
    "Gbdt = GradientBoostClassifier(n_estimators=50, learning_rate=0.5, max_depth=5)\n",
    "Gbdt.fit(x_train[0:200], y_train[0:200])"
   ]
  },
  {
   "cell_type": "code",
   "execution_count": 4,
   "metadata": {},
   "outputs": [
    {
     "output_type": "stream",
     "name": "stdout",
     "text": "0.875 0.77\n"
    }
   ],
   "source": [
    "print(Gbdt.train_score, Gbdt.score(x_train[200:600], y_train[200:600]))"
   ]
  },
  {
   "cell_type": "code",
   "execution_count": 5,
   "metadata": {},
   "outputs": [
    {
     "output_type": "execute_result",
     "data": {
      "text/plain": "array([1.40613207, 0.8099769 , 0.38037573, 1.11121843, 0.66874729,\n       0.63363033, 0.43552992, 0.41491995, 0.21119521, 0.33815761])"
     },
     "metadata": {},
     "execution_count": 5
    }
   ],
   "source": [
    "Gbdt.feature_importance"
   ]
  },
  {
   "cell_type": "markdown",
   "metadata": {},
   "source": [
    "# Multi-Classifier"
   ]
  },
  {
   "cell_type": "code",
   "execution_count": 6,
   "metadata": {},
   "outputs": [],
   "source": [
    "# Load data\n",
    "iris = datasets.load_iris()\n",
    "X = iris.data\n",
    "y = iris.target\n",
    "indices = np.array(range(len(y)))\n",
    "np.random.shuffle(indices)\n",
    "\n",
    "xt = X[indices]\n",
    "yt = y[indices]"
   ]
  },
  {
   "cell_type": "code",
   "execution_count": 7,
   "metadata": {},
   "outputs": [
    {
     "output_type": "execute_result",
     "data": {
      "text/plain": "1.0"
     },
     "metadata": {},
     "execution_count": 7
    }
   ],
   "source": [
    "Gbdt2 = GradientBoostClassifier()\n",
    "Gbdt2.fit(xt[0:120], yt[0:120])\n",
    "Gbdt2.train_score"
   ]
  },
  {
   "cell_type": "code",
   "execution_count": 8,
   "metadata": {},
   "outputs": [
    {
     "output_type": "execute_result",
     "data": {
      "text/plain": "1.0"
     },
     "metadata": {},
     "execution_count": 8
    }
   ],
   "source": [
    "Gbdt2.score(xt[120:150], yt[120:150])"
   ]
  },
  {
   "cell_type": "code",
   "execution_count": 9,
   "metadata": {},
   "outputs": [
    {
     "output_type": "execute_result",
     "data": {
      "text/plain": "(array([2, 1, 0, 2, 1, 1, 2, 0, 2, 2, 0, 2, 1, 1, 1, 0, 2, 0, 1, 0, 2, 1,\n        0, 0, 1, 2, 1, 0, 0, 1]),\n array([2, 1, 0, 2, 1, 1, 2, 0, 2, 2, 0, 2, 1, 1, 1, 0, 2, 0, 1, 0, 2, 1,\n        0, 0, 1, 2, 1, 0, 0, 1]))"
     },
     "metadata": {},
     "execution_count": 9
    }
   ],
   "source": [
    "Gbdt2.predict(xt[120:150]), yt[120:150]"
   ]
  },
  {
   "cell_type": "code",
   "execution_count": 10,
   "metadata": {},
   "outputs": [
    {
     "output_type": "execute_result",
     "data": {
      "text/plain": "array([[1.94860214, 1.47333345, 2.09325791, 1.46004343],\n       [1.34962192, 0.93999204, 1.37611387, 1.40355308],\n       [1.39574771, 0.90489698, 1.66596334, 1.2699472 ]])"
     },
     "metadata": {},
     "execution_count": 10
    }
   ],
   "source": [
    "Gbdt2.feature_importance"
   ]
  },
  {
   "cell_type": "code",
   "execution_count": null,
   "metadata": {},
   "outputs": [],
   "source": []
  }
 ],
 "metadata": {
  "file_extension": ".py",
  "kernelspec": {
   "display_name": "Python 3",
   "language": "python",
   "name": "python3"
  },
  "language_info": {
   "codemirror_mode": {
    "name": "ipython",
    "version": 3
   },
   "file_extension": ".py",
   "mimetype": "text/x-python",
   "name": "python",
   "nbconvert_exporter": "python",
   "pygments_lexer": "ipython3",
   "version": "3.7.6-final"
  },
  "mimetype": "text/x-python",
  "name": "python",
  "npconvert_exporter": "python",
  "pygments_lexer": "ipython3",
  "version": 3
 },
 "nbformat": 4,
 "nbformat_minor": 2
}