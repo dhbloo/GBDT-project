{
 "nbformat": 4,
 "nbformat_minor": 2,
 "metadata": {
  "language_info": {
   "name": "python",
   "codemirror_mode": {
    "name": "ipython",
    "version": 3
   },
   "version": "3.7.6-final"
  },
  "orig_nbformat": 2,
  "file_extension": ".py",
  "mimetype": "text/x-python",
  "name": "python",
  "npconvert_exporter": "python",
  "pygments_lexer": "ipython3",
  "version": 3,
  "kernelspec": {
   "name": "python37464bita1accb7628104b048eb0e4d9d2d6bd2a",
   "display_name": "Python 3.7.4 64-bit"
  }
 },
 "cells": [
  {
   "cell_type": "code",
   "execution_count": 1,
   "metadata": {},
   "outputs": [
    {
     "output_type": "stream",
     "name": "stderr",
     "text": "/usr/local/lib/python3.7/site-packages/sklearn/externals/six.py:31: DeprecationWarning: The module is deprecated in version 0.21 and will be removed in version 0.23 since we've dropped support for Python 2.7. Please rely on the official version of six (https://pypi.org/project/six/).\n  \"(https://pypi.org/project/six/).\", DeprecationWarning)\n"
    }
   ],
   "source": [
    "import pydotplus\n",
    "from sklearn import tree\n",
    "from sklearn.externals.six import StringIO\n",
    "import numpy as np\n",
    "import matplotlib.pyplot as plt\n",
    "from sklearn import datasets\n",
    "from sklearn.metrics import mean_squared_error, log_loss, r2_score\n",
    "from sklearn.preprocessing import LabelBinarizer\n",
    "from sklearn.ensemble import GradientBoostingClassifier\n",
    "from GBDT.GradientBoostDecisionTree import GBDTClassifier\n",
    "from GBDT.GradientBoostDecisionTree import GBDTRegressor"
   ]
  },
  {
   "cell_type": "code",
   "execution_count": 2,
   "metadata": {},
   "outputs": [],
   "source": [
    "def visualize(dtree, name, feature_names, target_names):\n",
    "    dot_data = StringIO()\n",
    "    tree.export_graphviz(dtree,  out_file=dot_data,\n",
    "                                feature_names=feature_names,\n",
    "                                class_names=target_names,\n",
    "                                filled=True, rounded=True,\n",
    "                                special_characters=True)\n",
    "\n",
    "    graph = pydotplus.graph_from_dot_data(dot_data.getvalue())\n",
    "    with open(name, 'wb') as f:\n",
    "        f.write(graph.create_png())"
   ]
  },
  {
   "cell_type": "code",
   "execution_count": 3,
   "metadata": {},
   "outputs": [
    {
     "output_type": "execute_result",
     "data": {
      "text/plain": "(150, 4)"
     },
     "metadata": {},
     "execution_count": 3
    }
   ],
   "source": [
    "data = datasets.load_iris()\n",
    "x = data.data\n",
    "y = data.target\n",
    "x.shape"
   ]
  },
  {
   "cell_type": "code",
   "execution_count": 4,
   "metadata": {},
   "outputs": [
    {
     "output_type": "stream",
     "name": "stdout",
     "text": "early stopping in round 350, best round is 330, M = 350\n"
    },
    {
     "output_type": "execute_result",
     "data": {
      "text/plain": "GBDTClassifier(learning_rate=0.1, loss='deviance', n_estimators=350,\n               n_iter_no_change=2, random_state=None, subsample=0.7, tol=0.0005,\n               tree_params={'criterion': 'mse', 'max_depth': 3})"
     },
     "metadata": {},
     "execution_count": 4
    }
   ],
   "source": [
    "Gbdt = GBDTClassifier(1000, 0.1, 'deviance', tree_params={'criterion': 'mse', 'max_depth': 3}, subsample=0.7, tol=0.002)\n",
    "Gbdt.fit(x, y)"
   ]
  },
  {
   "cell_type": "code",
   "execution_count": 5,
   "metadata": {},
   "outputs": [],
   "source": [
    "visualize(Gbdt.estimator_[50][2], 'class3_round50.png', data.feature_names, data.target_names)\n",
    "visualize(Gbdt.estimator_[100][2], 'class3_round100.png', data.feature_names, data.target_names)\n",
    "visualize(Gbdt.estimator_[200][2], 'class3_round200.png', data.feature_names, data.target_names)"
   ]
  },
  {
   "cell_type": "markdown",
   "metadata": {},
   "source": [
    "# Regression"
   ]
  },
  {
   "cell_type": "code",
   "execution_count": 6,
   "metadata": {},
   "outputs": [
    {
     "output_type": "execute_result",
     "data": {
      "text/plain": "(506, 13)"
     },
     "metadata": {},
     "execution_count": 6
    }
   ],
   "source": [
    "data = datasets.load_boston()\n",
    "x = data.data\n",
    "y = data.target\n",
    "x.shape"
   ]
  },
  {
   "cell_type": "code",
   "execution_count": 7,
   "metadata": {},
   "outputs": [
    {
     "output_type": "stream",
     "name": "stdout",
     "text": "early stopping in round 320, best round is 300, M = 320\n"
    },
    {
     "output_type": "execute_result",
     "data": {
      "text/plain": "GBDTRegressor(learning_rate=0.1, loss='ls', n_estimators=320,\n              n_iter_no_change=2, random_state=None, subsample=0.5, tol=0.0025,\n              tree_params={'criterion': 'mse', 'max_depth': 3})"
     },
     "metadata": {},
     "execution_count": 7
    }
   ],
   "source": [
    "Gbdtr = GBDTRegressor(500, 0.1, 'ls', tree_params={'criterion': 'mse', 'max_depth': 3}, subsample=0.5, tol=0.01)\n",
    "Gbdtr.fit(x, y)"
   ]
  },
  {
   "cell_type": "code",
   "execution_count": null,
   "metadata": {},
   "outputs": [],
   "source": [
    "visualize(Gbdt.estimator_[50], 'round50.png', data.feature_names, data.target_name)\n",
    "visualize(Gbdt.estimator_[100], 'round100.png', data.feature_names, data.target_name)\n",
    "visualize(Gbdt.estimator_[200], 'round200.png', data.feature_names, data.target_name)"
   ]
  }
 ]
}