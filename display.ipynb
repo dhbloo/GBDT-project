{
 "cells": [
  {
   "cell_type": "code",
   "execution_count": 1,
   "metadata": {},
   "outputs": [],
   "source": [
    "import numpy as np \n",
    "import pandas as pd\n",
    "from sklearn import datasets\n",
    "from GBDT.Gradientboost import GradientBoostClassifier"
   ]
  },
  {
   "cell_type": "code",
   "execution_count": 2,
   "metadata": {},
   "outputs": [],
   "source": [
    "train_df = pd.read_csv('./titanic/train.csv').fillna(0)\n",
    "test_df = pd.read_csv('./titanic/test.csv').fillna(0)\n",
    "#, 'SibSp', 'Parch'\n",
    "categorical_columns = ['Pclass', 'Sex', 'Embarked']\n",
    "numerical_columns = ['Age', 'Fare']\n",
    "drop_columns = ['PassengerId', 'Survived', 'Name', 'Ticket', 'Cabin']\n",
    "drop_columns1 = ['PassengerId', 'Name', 'Ticket', 'Cabin']\n",
    "\n",
    "train_df = pd.get_dummies(train_df, columns=categorical_columns, drop_first=True)\n",
    "test_df = pd.get_dummies(test_df, columns=categorical_columns, drop_first=True)\n",
    "\n",
    "# Compute mean and std of training data\n",
    "# mean = train_df[numerical_columns].mean()\n",
    "# std = train_df[numerical_columns].std()\n",
    "# train_df[numerical_columns] = (train_df[numerical_columns] - mean)/std\n",
    "\n",
    "# mean = test_df[numerical_columns].mean()\n",
    "# std = test_df[numerical_columns].std()\n",
    "# test_df[numerical_columns] = (test_df[numerical_columns] - mean)/std\n",
    "\n",
    "x_train = train_df.drop(columns=drop_columns, axis=1).values\n",
    "y_train = train_df.Survived.values\n",
    "# x_test = test_df.drop(columns=drop_columns1, axis=1).values\n",
    "# y_test = test_df.Survived.values"
   ]
  },
  {
   "cell_type": "code",
   "execution_count": 3,
   "metadata": {},
   "outputs": [],
   "source": [
    "Gbdt = GradientBoostClassifier(n_estimators=50, learning_rate=0.5, max_depth=5)\n",
    "Gbdt.fit(x_train[0:200], y_train[0:200])"
   ]
  },
  {
   "cell_type": "code",
   "execution_count": 4,
   "metadata": {},
   "outputs": [
    {
     "output_type": "stream",
     "name": "stdout",
     "text": "0.875 0.77\n"
    }
   ],
   "source": [
    "print(Gbdt.train_score, Gbdt.score(x_train[200:600], y_train[200:600]))"
   ]
  },
  {
   "cell_type": "markdown",
   "metadata": {},
   "source": [
    "# Multi-Classifier"
   ]
  },
  {
   "cell_type": "code",
   "execution_count": 5,
   "metadata": {},
   "outputs": [],
   "source": [
    "# Load data\n",
    "iris = datasets.load_iris()\n",
    "X = iris.data\n",
    "y = iris.target\n",
    "indices = np.array(range(len(y)))\n",
    "np.random.shuffle(indices)\n",
    "\n",
    "xt = X[indices]\n",
    "yt = y[indices]"
   ]
  },
  {
   "cell_type": "code",
   "execution_count": 6,
   "metadata": {},
   "outputs": [
    {
     "output_type": "execute_result",
     "data": {
      "text/plain": "1.0"
     },
     "metadata": {},
     "execution_count": 6
    }
   ],
   "source": [
    "Gbdt2 = GradientBoostClassifier()\n",
    "Gbdt2.fit(xt[0:120], yt[0:120])\n",
    "Gbdt2.train_score"
   ]
  },
  {
   "cell_type": "code",
   "execution_count": 7,
   "metadata": {},
   "outputs": [
    {
     "output_type": "execute_result",
     "data": {
      "text/plain": "1.0"
     },
     "metadata": {},
     "execution_count": 7
    }
   ],
   "source": [
    "Gbdt2.score(xt[120:150], yt[120:150])"
   ]
  },
  {
   "cell_type": "code",
   "execution_count": 8,
   "metadata": {},
   "outputs": [
    {
     "output_type": "execute_result",
     "data": {
      "text/plain": "(array([2, 0, 1, 0, 0, 1, 2, 0, 2, 1, 1, 0, 1, 1, 2, 2, 0, 1, 1, 0, 1, 2,\n        2, 1, 1, 2, 0, 2, 0, 1]),\n array([2, 0, 1, 0, 0, 1, 2, 0, 2, 1, 1, 0, 1, 1, 2, 2, 0, 1, 1, 0, 1, 2,\n        2, 1, 1, 2, 0, 2, 0, 1]))"
     },
     "metadata": {},
     "execution_count": 8
    }
   ],
   "source": [
    "Gbdt2.predict(xt[120:150]), yt[120:150]"
   ]
  },
  {
   "cell_type": "code",
   "execution_count": null,
   "metadata": {},
   "outputs": [],
   "source": []
  }
 ],
 "metadata": {
  "file_extension": ".py",
  "kernelspec": {
   "display_name": "Python 3",
   "language": "python",
   "name": "python3"
  },
  "language_info": {
   "codemirror_mode": {
    "name": "ipython",
    "version": 3
   },
   "file_extension": ".py",
   "mimetype": "text/x-python",
   "name": "python",
   "nbconvert_exporter": "python",
   "pygments_lexer": "ipython3",
   "version": "3.7.6-final"
  },
  "mimetype": "text/x-python",
  "name": "python",
  "npconvert_exporter": "python",
  "pygments_lexer": "ipython3",
  "version": 3
 },
 "nbformat": 4,
 "nbformat_minor": 2
}