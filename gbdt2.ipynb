{
 "cells": [
  {
   "cell_type": "code",
   "execution_count": 1,
   "metadata": {},
   "outputs": [],
   "source": [
    "import numpy as np \n",
    "import pandas as pd\n",
    "from sklearn import datasets\n",
    "from GBDT.Gradientboost import GradientBoostClassifier"
   ]
  },
  {
   "cell_type": "code",
   "execution_count": 2,
   "metadata": {},
   "outputs": [],
   "source": [
    "train_df = pd.read_csv('./titanic/train.csv').fillna(0)\n",
    "test_df = pd.read_csv('./titanic/test.csv').fillna(0)\n",
    "#, 'SibSp', 'Parch'\n",
    "categorical_columns = ['Pclass', 'Sex', 'Embarked']\n",
    "numerical_columns = ['Age', 'Fare']\n",
    "drop_columns = ['PassengerId', 'Survived', 'Name', 'Ticket', 'Cabin']\n",
    "drop_columns1 = ['PassengerId', 'Name', 'Ticket', 'Cabin']\n",
    "\n",
    "train_df = pd.get_dummies(train_df, columns=categorical_columns, drop_first=True)\n",
    "test_df = pd.get_dummies(test_df, columns=categorical_columns, drop_first=True)\n",
    "\n",
    "x_train = train_df.drop(columns=drop_columns, axis=1).values\n",
    "y_train = train_df.Survived.values\n",
    "# x_test = test_df.drop(columns=drop_columns1, axis=1).values\n",
    "# y_test = test_df.Survived.values"
   ]
  },
  {
   "cell_type": "code",
   "execution_count": 3,
   "metadata": {},
   "outputs": [],
   "source": [
    "Gbdt = GradientBoostClassifier(n_estimators=50, learning_rate=0.5, max_depth=5)\n",
    "Gbdt.fit(x_train[0:200], y_train[0:200])"
   ]
  },
  {
   "cell_type": "code",
   "execution_count": 4,
   "metadata": {},
   "outputs": [
    {
     "name": "stdout",
     "output_type": "stream",
     "text": [
      "0.875 0.77\n"
     ]
    },
    {
     "name": "stderr",
     "output_type": "stream",
     "text": [
      "D:\\Projects\\Python\\GBDT-project\\GBDT\\Gradientboost.py:93: ComplexWarning: Casting complex values to real discards the imaginary part\n",
      "  f_m_estimator[i+1][x] += self.learning_rate * self.estimator_[i].root.get_predict_value(X[x])\n"
     ]
    }
   ],
   "source": [
    "print(Gbdt.train_score, Gbdt.score(x_train[200:600], y_train[200:600]))"
   ]
  },
  {
   "cell_type": "code",
   "execution_count": 5,
   "metadata": {},
   "outputs": [
    {
     "data": {
      "text/plain": [
       "array([1.40613207, 0.8099769 , 0.38037573, 1.11121843, 0.66874729,\n",
       "       0.63363033, 0.43552992, 0.41491995, 0.21119521, 0.33815761])"
      ]
     },
     "execution_count": 5,
     "metadata": {},
     "output_type": "execute_result"
    }
   ],
   "source": [
    "Gbdt.feature_importance"
   ]
  },
  {
   "cell_type": "markdown",
   "metadata": {},
   "source": [
    "# Multi-Classifier"
   ]
  },
  {
   "cell_type": "code",
   "execution_count": 6,
   "metadata": {},
   "outputs": [],
   "source": [
    "# Load data\n",
    "iris = datasets.load_iris()\n",
    "X = iris.data\n",
    "y = iris.target\n",
    "indices = np.array(range(len(y)))\n",
    "np.random.shuffle(indices)\n",
    "\n",
    "xt = X[indices]\n",
    "yt = y[indices]"
   ]
  },
  {
   "cell_type": "code",
   "execution_count": 7,
   "metadata": {},
   "outputs": [
    {
     "data": {
      "text/plain": [
       "1.0"
      ]
     },
     "execution_count": 7,
     "metadata": {},
     "output_type": "execute_result"
    }
   ],
   "source": [
    "Gbdt2 = GradientBoostClassifier()\n",
    "Gbdt2.fit(xt[0:120], yt[0:120])\n",
    "Gbdt2.train_score"
   ]
  },
  {
   "cell_type": "code",
   "execution_count": 8,
   "metadata": {},
   "outputs": [
    {
     "data": {
      "text/plain": [
       "0.9333333333333333"
      ]
     },
     "execution_count": 8,
     "metadata": {},
     "output_type": "execute_result"
    }
   ],
   "source": [
    "Gbdt2.score(xt[120:150], yt[120:150])"
   ]
  },
  {
   "cell_type": "code",
   "execution_count": 9,
   "metadata": {},
   "outputs": [
    {
     "data": {
      "text/plain": [
       "(array([2, 1, 2, 0, 2, 2, 1, 0, 1, 1, 2, 2, 1, 0, 0, 0, 2, 2, 1, 0, 1, 1,\n",
       "        2, 0, 2, 2, 2, 0, 0, 1], dtype=int64),\n",
       " array([1, 1, 2, 0, 2, 2, 1, 0, 1, 1, 2, 2, 1, 0, 0, 0, 2, 2, 1, 0, 1, 1,\n",
       "        1, 0, 2, 2, 2, 0, 0, 1]))"
      ]
     },
     "execution_count": 9,
     "metadata": {},
     "output_type": "execute_result"
    }
   ],
   "source": [
    "Gbdt2.predict(xt[120:150]), yt[120:150]"
   ]
  },
  {
   "cell_type": "code",
   "execution_count": 10,
   "metadata": {},
   "outputs": [
    {
     "data": {
      "text/plain": [
       "array([[1.16474751, 0.60684929, 1.51577107, 1.46793299],\n",
       "       [1.01293217, 0.47861511, 1.38699012, 1.26818668],\n",
       "       [1.09916766, 0.54423767, 1.42829072, 1.39028839]])"
      ]
     },
     "execution_count": 10,
     "metadata": {},
     "output_type": "execute_result"
    }
   ],
   "source": [
    "Gbdt2.feature_importance"
   ]
  },
  {
   "cell_type": "code",
   "execution_count": null,
   "metadata": {},
   "outputs": [],
   "source": []
  }
 ],
 "metadata": {
  "file_extension": ".py",
  "kernelspec": {
   "display_name": "Python 3",
   "language": "python",
   "name": "python3"
  },
  "language_info": {
   "codemirror_mode": {
    "name": "ipython",
    "version": 3
   },
   "file_extension": ".py",
   "mimetype": "text/x-python",
   "name": "python",
   "nbconvert_exporter": "python",
   "pygments_lexer": "ipython3",
   "version": "3.7.4"
  },
  "mimetype": "text/x-python",
  "name": "python",
  "npconvert_exporter": "python",
  "pygments_lexer": "ipython3",
  "version": 3
 },
 "nbformat": 4,
 "nbformat_minor": 2
}
