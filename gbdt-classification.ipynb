{
 "cells": [
  {
   "cell_type": "code",
   "execution_count": 1,
   "metadata": {},
   "outputs": [],
   "source": [
    "import numpy as np\n",
    "import matplotlib.pyplot as plt\n",
    "from sklearn import datasets\n",
    "from sklearn.metrics import mean_squared_error, log_loss, r2_score\n",
    "from sklearn.preprocessing import LabelBinarizer\n",
    "from sklearn.ensemble import GradientBoostingClassifier\n",
    "from GBDT.GradientBoostDecisionTree import GBDTClassifier"
   ]
  },
  {
   "cell_type": "code",
   "execution_count": 2,
   "metadata": {},
   "outputs": [
    {
     "data": {
      "text/plain": [
       "(150, 4)"
      ]
     },
     "execution_count": 2,
     "metadata": {},
     "output_type": "execute_result"
    }
   ],
   "source": [
    "data = datasets.load_iris()\n",
    "x = data.data\n",
    "y = data.target\n",
    "x.shape"
   ]
  },
  {
   "cell_type": "markdown",
   "metadata": {},
   "source": [
    "## My GBDT"
   ]
  },
  {
   "cell_type": "code",
   "execution_count": 3,
   "metadata": {},
   "outputs": [
    {
     "name": "stdout",
     "output_type": "stream",
     "text": [
      "[-0.69314718 -0.69314718 -0.69314718]\n"
     ]
    },
    {
     "data": {
      "text/plain": [
       "GBDTClassifier(learning_rate=0.1, loss='deviance', n_estimators=100,\n",
       "               random_state=None, subsample=0.5,\n",
       "               tree_params={'criterion': 'mse', 'max_depth': 3})"
      ]
     },
     "execution_count": 3,
     "metadata": {},
     "output_type": "execute_result"
    }
   ],
   "source": [
    "Gbdt = GBDTClassifier(100, 0.1, 'deviance', tree_params={'criterion': 'mse', 'max_depth': 3}, subsample=0.5)\n",
    "Gbdt.fit(x, y)"
   ]
  },
  {
   "cell_type": "code",
   "execution_count": 4,
   "metadata": {},
   "outputs": [
    {
     "data": {
      "text/plain": [
       "0.98"
      ]
     },
     "execution_count": 4,
     "metadata": {},
     "output_type": "execute_result"
    }
   ],
   "source": [
    "r2_score(y, Gbdt.predict(x))"
   ]
  },
  {
   "cell_type": "code",
   "execution_count": 5,
   "metadata": {},
   "outputs": [
    {
     "data": {
      "text/plain": [
       "array([[ 2.05886275, -2.34163748, -2.34563086],\n",
       "       [ 2.05886275, -2.20284198, -2.34557188],\n",
       "       [ 2.05886275, -2.34548297, -2.34563086],\n",
       "       [ 2.05886275, -2.26221532, -2.34563086],\n",
       "       [ 2.05886275, -2.34163748, -2.34563086],\n",
       "       [ 2.05886275, -2.34158763, -2.34563086],\n",
       "       [ 2.05886275, -2.34163748, -2.34563086],\n",
       "       [ 2.05886275, -2.34163748, -2.34563086],\n",
       "       [ 2.05886275, -2.17077557, -2.34557188],\n",
       "       [ 2.05886275, -2.26257303, -2.34563086],\n",
       "       [ 2.05886275, -2.34158763, -2.34563086],\n",
       "       [ 2.05886275, -2.34163748, -2.34563086],\n",
       "       [ 2.05886275, -2.20244359, -2.34557188],\n",
       "       [ 2.05886275, -2.28016312, -2.34557188],\n",
       "       [ 2.05886275, -2.16340719, -2.34563086],\n",
       "       [ 2.05886275, -2.17476952, -2.34563086],\n",
       "       [ 2.05886275, -2.34158763, -2.34563086],\n",
       "       [ 2.05886275, -2.34163748, -2.34563086],\n",
       "       [ 2.05886275, -2.17170108, -2.34563086],\n",
       "       [ 2.05886275, -2.34163748, -2.34563086],\n",
       "       [ 2.05886275, -2.34158763, -2.34563086],\n",
       "       [ 2.05886275, -2.34163748, -2.34563086],\n",
       "       [ 2.05886275, -2.34311682, -2.34563086],\n",
       "       [ 2.05886275, -2.34163748, -2.34563086],\n",
       "       [ 2.05886275, -2.34163748, -2.34563086],\n",
       "       [ 2.05886275, -2.20476881, -2.34557188],\n",
       "       [ 2.05886275, -2.34163748, -2.34563086],\n",
       "       [ 2.05886275, -2.34158763, -2.34563086],\n",
       "       [ 2.05886275, -2.34158763, -2.34563086],\n",
       "       [ 2.05886275, -2.34548297, -2.34563086],\n",
       "       [ 2.05886275, -2.26297143, -2.34563086],\n",
       "       [ 2.05886275, -2.34158763, -2.34563086],\n",
       "       [ 2.05886275, -2.34364058, -2.34563086],\n",
       "       [ 2.05886275, -2.29484008, -2.34563086],\n",
       "       [ 2.05886275, -2.26297143, -2.34563086],\n",
       "       [ 2.05886275, -2.34696231, -2.34563086],\n",
       "       [ 2.05886275, -2.29177164, -2.34563086],\n",
       "       [ 2.05886275, -2.34163748, -2.34563086],\n",
       "       [ 2.05886275, -2.28176918, -2.34557188],\n",
       "       [ 2.05886275, -2.34163748, -2.34563086],\n",
       "       [ 2.05886275, -2.34163748, -2.34563086],\n",
       "       [ 2.05886275, -2.06054608, -2.27560218],\n",
       "       [ 2.05886275, -2.35104655, -2.34563086],\n",
       "       [ 2.05886275, -2.34163748, -2.34563086],\n",
       "       [ 2.05886275, -2.34163748, -2.34563086],\n",
       "       [ 2.05886275, -2.20423678, -2.34557188],\n",
       "       [ 2.05886275, -2.34163748, -2.34563086],\n",
       "       [ 2.05886275, -2.34548297, -2.34563086],\n",
       "       [ 2.05886275, -2.34158763, -2.34563086],\n",
       "       [ 2.05886275, -2.34163748, -2.34563086],\n",
       "       [-2.34342291,  1.99614121, -2.3222707 ],\n",
       "       [-2.34342291,  1.89843257, -2.34707777],\n",
       "       [-2.34342291,  1.06347254, -1.58865568],\n",
       "       [-2.34342291,  1.94808013, -2.27560218],\n",
       "       [-2.34342291,  2.08670013, -2.34761701],\n",
       "       [-2.34342291,  2.05283997, -2.34617009],\n",
       "       [-2.34342291,  2.04571429, -2.30401692],\n",
       "       [-2.34342291,  1.75297808, -2.33780857],\n",
       "       [-2.34342291,  2.06962215, -2.3470188 ],\n",
       "       [-2.34342291,  1.79511845, -2.34645397],\n",
       "       [-2.34342291,  1.48660491, -2.05248235],\n",
       "       [-2.34342291,  2.01555536, -2.34557188],\n",
       "       [-2.34342291,  1.7179978 , -2.04225625],\n",
       "       [-2.34342291,  2.04758817, -2.31129339],\n",
       "       [-2.34342291,  2.06126858, -2.34557188],\n",
       "       [-2.34342291,  2.07216252, -2.34707777],\n",
       "       [-2.34342291,  1.91465697, -2.34557188],\n",
       "       [-2.34342291,  2.14154124, -2.34645397],\n",
       "       [-2.34342291,  1.69279367, -1.9360775 ],\n",
       "       [-2.34342291,  2.10752362, -2.33780857],\n",
       "       [-2.34342291, -0.63481933, -0.12583051],\n",
       "       [-2.34342291,  2.11236418, -2.34617009],\n",
       "       [-2.34342291,  1.20053742, -1.34785317],\n",
       "       [-2.34342291,  2.06466615, -2.3118916 ],\n",
       "       [-2.34342291,  2.0952862 , -2.3470188 ],\n",
       "       [-2.34342291,  2.01555536, -2.3470188 ],\n",
       "       [-2.34342291,  1.60472648, -2.19225562],\n",
       "       [-2.34342291, -0.47670228, -0.08412757],\n",
       "       [-2.34342291,  2.04758817, -2.34557188],\n",
       "       [-2.34342291,  2.12971506, -2.34461777],\n",
       "       [-2.34342291,  2.02254339, -2.33780857],\n",
       "       [-2.34342291,  2.02254339, -2.33780857],\n",
       "       [-2.34342291,  2.14154124, -2.34645397],\n",
       "       [-2.34342291, -0.15214418, -0.25788323],\n",
       "       [-2.34342291,  1.73379446, -2.34557188],\n",
       "       [-2.34342291,  1.97516964, -2.33854869],\n",
       "       [-2.34342291,  2.07216252, -2.31279928],\n",
       "       [-2.34342291,  2.04721337, -2.2770491 ],\n",
       "       [-2.34342291,  1.94553364, -2.34557188],\n",
       "       [-2.34342291,  1.9884591 , -2.33780857],\n",
       "       [-2.34342291,  1.9884591 , -2.34461777],\n",
       "       [-2.34342291,  2.01555536, -2.34557188],\n",
       "       [-2.34342291,  2.14154124, -2.34461777],\n",
       "       [-2.34342291,  1.75059297, -2.27560218],\n",
       "       [-2.34342291,  2.10752362, -2.34645397],\n",
       "       [-2.34342291,  1.96772508, -2.34557188],\n",
       "       [-2.34342291,  2.08346001, -2.34557188],\n",
       "       [-2.34342291,  2.0952862 , -2.3456304 ],\n",
       "       [-2.34342291,  1.90175876, -2.33780857],\n",
       "       [-2.34342291,  2.10053799, -2.34617009],\n",
       "       [-2.34342291, -2.39639869,  2.08568049],\n",
       "       [-2.34342291, -2.09436773,  1.92482903],\n",
       "       [-2.34342291, -2.35102267,  2.0894217 ],\n",
       "       [-2.34342291, -2.39023711,  2.13217019],\n",
       "       [-2.34342291, -2.39837822,  2.09050938],\n",
       "       [-2.34342291, -2.35102267,  2.09128136],\n",
       "       [-2.34342291, -0.00970633,  0.00943462],\n",
       "       [-2.34342291, -2.32397203,  2.11019188],\n",
       "       [-2.34342291, -2.34467195,  1.98791028],\n",
       "       [-2.34342291, -2.33022986,  2.0834586 ],\n",
       "       [-2.34342291, -2.34384929,  1.99012442],\n",
       "       [-2.34342291, -2.29756705,  2.09639642],\n",
       "       [-2.34342291, -2.35102267,  2.0894217 ],\n",
       "       [-2.34342291, -1.94398322,  1.6330805 ],\n",
       "       [-2.34342291, -2.20792426,  1.99008209],\n",
       "       [-2.34342291, -2.37748916,  2.08454628],\n",
       "       [-2.34342291, -2.37450364,  2.11127956],\n",
       "       [-2.34342291, -2.33022986,  2.08531826],\n",
       "       [-2.34342291, -2.33785453,  2.02455681],\n",
       "       [-2.34342291, -0.28026915,  0.47848872],\n",
       "       [-2.34342291, -2.33022986,  2.0834586 ],\n",
       "       [-2.34342291, -1.75168091,  1.60058194],\n",
       "       [-2.34342291, -2.34607279,  2.09262974],\n",
       "       [-2.34342291, -1.56915634,  1.71946439],\n",
       "       [-2.34342291, -2.33022986,  2.0834586 ],\n",
       "       [-2.34342291, -2.22388899,  2.10422878],\n",
       "       [-2.34342291, -1.00378094,  1.06206894],\n",
       "       [-2.34342291, -1.60930301,  1.64458134],\n",
       "       [-2.34342291, -2.38956252,  2.09185776],\n",
       "       [-2.34342291, -1.44200151,  1.19382468],\n",
       "       [-2.34342291, -2.34607279,  2.09077009],\n",
       "       [-2.34342291, -2.33022986,  2.0834586 ],\n",
       "       [-2.34342291, -2.38956252,  2.09185776],\n",
       "       [-2.34342291, -0.71486363,  0.57393118],\n",
       "       [-2.34342291, -1.43986161,  1.04278943],\n",
       "       [-2.34342291, -2.35102267,  2.0894217 ],\n",
       "       [-2.34342291, -2.39639869,  2.08568049],\n",
       "       [-2.34342291, -2.37470029,  2.10950073],\n",
       "       [-2.34342291, -0.83858796,  0.67105605],\n",
       "       [-2.34342291, -2.34967383,  2.08764287],\n",
       "       [-2.34342291, -2.34967383,  2.08764287],\n",
       "       [-2.34342291, -2.33091137,  2.06301272],\n",
       "       [-2.34342291, -2.09436773,  1.92482903],\n",
       "       [-2.34342291, -2.33022986,  2.0834586 ],\n",
       "       [-2.34342291, -2.33022986,  2.0834586 ],\n",
       "       [-2.34342291, -2.32192162,  2.10387869],\n",
       "       [-2.34342291, -2.01274015,  1.69982529],\n",
       "       [-2.34342291, -2.32515176,  2.03517467],\n",
       "       [-2.34342291, -2.41137669,  2.10955227],\n",
       "       [-2.34342291, -2.21005646,  1.8483417 ]])"
      ]
     },
     "execution_count": 5,
     "metadata": {},
     "output_type": "execute_result"
    }
   ],
   "source": [
    "Gbdt.predict_log_proba(x)"
   ]
  },
  {
   "cell_type": "code",
   "execution_count": 6,
   "metadata": {},
   "outputs": [
    {
     "data": {
      "text/plain": [
       "array([[0.88684009, 0.08773277, 0.08741368],\n",
       "       [0.88684009, 0.09949557, 0.08741839],\n",
       "       [0.88684009, 0.08742548, 0.08741368],\n",
       "       [0.88684009, 0.09430099, 0.08741368],\n",
       "       [0.88684009, 0.08773277, 0.08741368],\n",
       "       [0.88684009, 0.08773676, 0.08741368],\n",
       "       [0.88684009, 0.08773277, 0.08741368],\n",
       "       [0.88684009, 0.08773277, 0.08741368],\n",
       "       [0.88684009, 0.10240572, 0.08741839],\n",
       "       [0.88684009, 0.09427045, 0.08741368],\n",
       "       [0.88684009, 0.08773676, 0.08741368],\n",
       "       [0.88684009, 0.08773277, 0.08741368],\n",
       "       [0.88684009, 0.09953127, 0.08741839],\n",
       "       [0.88684009, 0.09277922, 0.08741839],\n",
       "       [0.88684009, 0.103085  , 0.08741368],\n",
       "       [0.88684009, 0.10203919, 0.08741368],\n",
       "       [0.88684009, 0.08773676, 0.08741368],\n",
       "       [0.88684009, 0.08773277, 0.08741368],\n",
       "       [0.88684009, 0.10232068, 0.08741368],\n",
       "       [0.88684009, 0.08773277, 0.08741368],\n",
       "       [0.88684009, 0.08773676, 0.08741368],\n",
       "       [0.88684009, 0.08773277, 0.08741368],\n",
       "       [0.88684009, 0.08761444, 0.08741368],\n",
       "       [0.88684009, 0.08773277, 0.08741368],\n",
       "       [0.88684009, 0.08773277, 0.08741368],\n",
       "       [0.88684009, 0.09932307, 0.08741839],\n",
       "       [0.88684009, 0.08773277, 0.08741368],\n",
       "       [0.88684009, 0.08773676, 0.08741368],\n",
       "       [0.88684009, 0.08773676, 0.08741368],\n",
       "       [0.88684009, 0.08742548, 0.08741368],\n",
       "       [0.88684009, 0.09423643, 0.08741368],\n",
       "       [0.88684009, 0.08773676, 0.08741368],\n",
       "       [0.88684009, 0.08757258, 0.08741368],\n",
       "       [0.88684009, 0.09155121, 0.08741368],\n",
       "       [0.88684009, 0.09423643, 0.08741368],\n",
       "       [0.88684009, 0.08730753, 0.08741368],\n",
       "       [0.88684009, 0.09180673, 0.08741368],\n",
       "       [0.88684009, 0.08773277, 0.08741368],\n",
       "       [0.88684009, 0.09264413, 0.08741839],\n",
       "       [0.88684009, 0.08773277, 0.08741368],\n",
       "       [0.88684009, 0.08773277, 0.08741368],\n",
       "       [0.88684009, 0.11299109, 0.09316384],\n",
       "       [0.88684009, 0.08698262, 0.08741368],\n",
       "       [0.88684009, 0.08773277, 0.08741368],\n",
       "       [0.88684009, 0.08773277, 0.08741368],\n",
       "       [0.88684009, 0.09937067, 0.08741839],\n",
       "       [0.88684009, 0.08773277, 0.08741368],\n",
       "       [0.88684009, 0.08742548, 0.08741368],\n",
       "       [0.88684009, 0.08773676, 0.08741368],\n",
       "       [0.88684009, 0.08773277, 0.08741368],\n",
       "       [0.08758998, 0.88039133, 0.08929523],\n",
       "       [0.08758998, 0.86971402, 0.08729833],\n",
       "       [0.08758998, 0.74335359, 0.16957312],\n",
       "       [0.08758998, 0.87523715, 0.09316384],\n",
       "       [0.08758998, 0.88960377, 0.08725537],\n",
       "       [0.08758998, 0.88623427, 0.08737068],\n",
       "       [0.08758998, 0.88551386, 0.09079083],\n",
       "       [0.08758998, 0.85232803, 0.0880397 ],\n",
       "       [0.08758998, 0.88791536, 0.08730303],\n",
       "       [0.08758998, 0.85755367, 0.08734804],\n",
       "       [0.08758998, 0.81556814, 0.11380179],\n",
       "       [0.08758998, 0.88242064, 0.08741839],\n",
       "       [0.08758998, 0.84787076, 0.11483719],\n",
       "       [0.08758998, 0.88570369, 0.09019196],\n",
       "       [0.08758998, 0.8870813 , 0.08741839],\n",
       "       [0.08758998, 0.88816794, 0.08729833],\n",
       "       [0.08758998, 0.87154143, 0.08741839],\n",
       "       [0.08758998, 0.89487569, 0.08734804],\n",
       "       [0.08758998, 0.8445912 , 0.12607942],\n",
       "       [0.08758998, 0.89163229, 0.0880397 ],\n",
       "       [0.08758998, 0.34641857, 0.46858381],\n",
       "       [0.08758998, 0.89209912, 0.08737068],\n",
       "       [0.08758998, 0.76862037, 0.20622157],\n",
       "       [0.08758998, 0.88742118, 0.09014288],\n",
       "       [0.08758998, 0.89044418, 0.08730303],\n",
       "       [0.08758998, 0.88242064, 0.08730303],\n",
       "       [0.08758998, 0.83267794, 0.1004481 ],\n",
       "       [0.08758998, 0.38303114, 0.4789805 ],\n",
       "       [0.08758998, 0.88570369, 0.08741839],\n",
       "       [0.08758998, 0.89375796, 0.08749453],\n",
       "       [0.08758998, 0.88314375, 0.0880397 ],\n",
       "       [0.08758998, 0.88314375, 0.0880397 ],\n",
       "       [0.08758998, 0.89487569, 0.08734804],\n",
       "       [0.08758998, 0.46203716, 0.43588413],\n",
       "       [0.08758998, 0.84989713, 0.08741839],\n",
       "       [0.08758998, 0.8781653 , 0.0879803 ],\n",
       "       [0.08758998, 0.88816794, 0.09006846],\n",
       "       [0.08758998, 0.88566574, 0.09304167],\n",
       "       [0.08758998, 0.87495881, 0.08741839],\n",
       "       [0.08758998, 0.87958002, 0.0880397 ],\n",
       "       [0.08758998, 0.87958002, 0.08749453],\n",
       "       [0.08758998, 0.88242064, 0.08741839],\n",
       "       [0.08758998, 0.89487569, 0.08749453],\n",
       "       [0.08758998, 0.85202758, 0.09316384],\n",
       "       [0.08758998, 0.89163229, 0.08734804],\n",
       "       [0.08758998, 0.87736655, 0.08741839],\n",
       "       [0.08758998, 0.88928516, 0.08741839],\n",
       "       [0.08758998, 0.89044418, 0.08741372],\n",
       "       [0.08758998, 0.87009045, 0.0880397 ],\n",
       "       [0.08758998, 0.89095546, 0.08737068],\n",
       "       [0.08758998, 0.08344773, 0.88950359],\n",
       "       [0.08758998, 0.10964545, 0.87267597],\n",
       "       [0.08758998, 0.08698452, 0.88987076],\n",
       "       [0.08758998, 0.0839202 , 0.89399086],\n",
       "       [0.08758998, 0.08329645, 0.88997731],\n",
       "       [0.08758998, 0.08698452, 0.89005288],\n",
       "       [0.08758998, 0.49757344, 0.50235864],\n",
       "       [0.08758998, 0.08915697, 0.89188984],\n",
       "       [0.08758998, 0.08749021, 0.87952188],\n",
       "       [0.08758998, 0.08865009, 0.88928502],\n",
       "       [0.08758998, 0.08755591, 0.8797563 ],\n",
       "       [0.08758998, 0.09132466, 0.89055244],\n",
       "       [0.08758998, 0.08698452, 0.88987076],\n",
       "       [0.08758998, 0.12521091, 0.8365912 ],\n",
       "       [0.08758998, 0.09904114, 0.87975182],\n",
       "       [0.08758998, 0.08490545, 0.88939206],\n",
       "       [0.08758998, 0.0851377 , 0.89199467],\n",
       "       [0.08758998, 0.08865009, 0.88946798],\n",
       "       [0.08758998, 0.08803601, 0.88335137],\n",
       "       [0.08758998, 0.43038779, 0.61739095],\n",
       "       [0.08758998, 0.08865009, 0.88928502],\n",
       "       [0.08758998, 0.14783531, 0.8320997 ],\n",
       "       [0.08758998, 0.08737843, 0.89018476],\n",
       "       [0.08758998, 0.1723367 , 0.84805983],\n",
       "       [0.08758998, 0.08865009, 0.88928502],\n",
       "       [0.08758998, 0.09762567, 0.89131352],\n",
       "       [0.08758998, 0.26819869, 0.74308572],\n",
       "       [0.08758998, 0.1666854 , 0.83815736],\n",
       "       [0.08758998, 0.08397208, 0.89010927],\n",
       "       [0.08758998, 0.19123559, 0.76742441],\n",
       "       [0.08758998, 0.08737843, 0.89000284],\n",
       "       [0.08758998, 0.08865009, 0.88928502],\n",
       "       [0.08758998, 0.08397208, 0.89010927],\n",
       "       [0.08758998, 0.32852505, 0.63966978],\n",
       "       [0.08758998, 0.19156678, 0.73938787],\n",
       "       [0.08758998, 0.08698452, 0.88987076],\n",
       "       [0.08758998, 0.08344773, 0.88950359],\n",
       "       [0.08758998, 0.08512238, 0.89182318],\n",
       "       [0.08758998, 0.30183226, 0.66173959],\n",
       "       [0.08758998, 0.0870917 , 0.88969632],\n",
       "       [0.08758998, 0.0870917 , 0.88969632],\n",
       "       [0.08758998, 0.08859505, 0.88725589],\n",
       "       [0.08758998, 0.10964545, 0.87267597],\n",
       "       [0.08758998, 0.08865009, 0.88928502],\n",
       "       [0.08758998, 0.08865009, 0.88928502],\n",
       "       [0.08758998, 0.08932362, 0.8912796 ],\n",
       "       [0.08758998, 0.11787176, 0.84551191],\n",
       "       [0.08758998, 0.08906121, 0.88444101],\n",
       "       [0.08758998, 0.08230927, 0.89182815],\n",
       "       [0.08758998, 0.09885104, 0.86393228]])"
      ]
     },
     "execution_count": 6,
     "metadata": {},
     "output_type": "execute_result"
    }
   ],
   "source": [
    "Gbdt.predict_proba(x)"
   ]
  },
  {
   "cell_type": "code",
   "execution_count": 7,
   "metadata": {},
   "outputs": [
    {
     "data": {
      "text/plain": [
       "[<matplotlib.lines.Line2D at 0x1a3b928af88>]"
      ]
     },
     "execution_count": 7,
     "metadata": {},
     "output_type": "execute_result"
    },
    {
     "data": {
      "image/png": "[encoded data removed]",
      "text/plain": [
       "<Figure size 432x288 with 1 Axes>"
      ]
     },
     "metadata": {
      "needs_background": "light"
     },
     "output_type": "display_data"
    }
   ],
   "source": [
    "plt.plot(range(len(Gbdt.train_score_)), Gbdt.train_score_)"
   ]
  },
  {
   "cell_type": "code",
   "execution_count": 8,
   "metadata": {},
   "outputs": [
    {
     "data": {
      "text/plain": [
       "array([0.0271624 , 0.03806199, 0.48944286, 0.44533275])"
      ]
     },
     "execution_count": 8,
     "metadata": {},
     "output_type": "execute_result"
    }
   ],
   "source": [
    "Gbdt.feature_importances_"
   ]
  },
  {
   "cell_type": "code",
   "execution_count": 9,
   "metadata": {},
   "outputs": [
    {
     "data": {
      "text/plain": [
       "[<matplotlib.lines.Line2D at 0x1a3b92ab148>]"
      ]
     },
     "execution_count": 9,
     "metadata": {},
     "output_type": "execute_result"
    },
    {
     "data": {
      "image/png": "[encoded data removed]",
      "text/plain": [
       "<Figure size 432x288 with 1 Axes>"
      ]
     },
     "metadata": {
      "needs_background": "light"
     },
     "output_type": "display_data"
    }
   ],
   "source": [
    "plt.plot(range(len(Gbdt.oob_improvement_)), Gbdt.oob_improvement_)"
   ]
  },
  {
   "cell_type": "code",
   "execution_count": 10,
   "metadata": {},
   "outputs": [
    {
     "data": {
      "text/plain": [
       "[<matplotlib.lines.Line2D at 0x1a3ba327688>]"
      ]
     },
     "execution_count": 10,
     "metadata": {},
     "output_type": "execute_result"
    },
    {
     "data": {
      "image/png": "[encoded data removed]",
      "text/plain": [
       "<Figure size 432x288 with 1 Axes>"
      ]
     },
     "metadata": {
      "needs_background": "light"
     },
     "output_type": "display_data"
    }
   ],
   "source": [
    "scores = [r2_score(y, pred) for pred in Gbdt.staged_predict(x)]\n",
    "plt.plot(np.arange(len(scores)), scores)"
   ]
  },
  {
   "cell_type": "code",
   "execution_count": 11,
   "metadata": {},
   "outputs": [
    {
     "data": {
      "text/plain": [
       "(150, 3)"
      ]
     },
     "execution_count": 11,
     "metadata": {},
     "output_type": "execute_result"
    }
   ],
   "source": [
    "log_proba = [p for p in Gbdt.staged_predict_log_proba(x)]\n",
    "log_proba[0].shape"
   ]
  },
  {
   "cell_type": "code",
   "execution_count": 12,
   "metadata": {},
   "outputs": [
    {
     "data": {
      "text/plain": [
       "{'learning_rate': 0.1,\n",
       " 'loss': 'deviance',\n",
       " 'n_estimators': 100,\n",
       " 'random_state': None,\n",
       " 'subsample': 0.5,\n",
       " 'tree_params': {'criterion': 'mse', 'max_depth': 3}}"
      ]
     },
     "execution_count": 12,
     "metadata": {},
     "output_type": "execute_result"
    }
   ],
   "source": [
    "Gbdt.get_params()"
   ]
  },
  {
   "cell_type": "code",
   "execution_count": 13,
   "metadata": {},
   "outputs": [],
   "source": [
    "from sklearn.utils.estimator_checks import check_estimator\n",
    "#check_estimator(GBDTClassifier)"
   ]
  },
  {
   "cell_type": "markdown",
   "metadata": {},
   "source": [
    " ## Sklearn GBDT"
   ]
  },
  {
   "cell_type": "code",
   "execution_count": 23,
   "metadata": {},
   "outputs": [
    {
     "data": {
      "text/plain": [
       "GradientBoostingClassifier(ccp_alpha=0.0, criterion='mse', init=None,\n",
       "                           learning_rate=0.1, loss='deviance', max_depth=3,\n",
       "                           max_features=None, max_leaf_nodes=None,\n",
       "                           min_impurity_decrease=0.0, min_impurity_split=None,\n",
       "                           min_samples_leaf=1, min_samples_split=2,\n",
       "                           min_weight_fraction_leaf=0.0, n_estimators=100,\n",
       "                           n_iter_no_change=None, presort='deprecated',\n",
       "                           random_state=None, subsample=0.5, tol=0.0001,\n",
       "                           validation_fraction=0.1, verbose=0,\n",
       "                           warm_start=False)"
      ]
     },
     "execution_count": 23,
     "metadata": {},
     "output_type": "execute_result"
    }
   ],
   "source": [
    "gbr = GradientBoostingClassifier(criterion='mse', loss='deviance', n_estimators=100, learning_rate=0.1, max_depth=3, subsample=0.5)\n",
    "gbr.fit(x, y)"
   ]
  },
  {
   "cell_type": "code",
   "execution_count": 15,
   "metadata": {},
   "outputs": [
    {
     "data": {
      "text/plain": [
       "1.0"
      ]
     },
     "execution_count": 15,
     "metadata": {},
     "output_type": "execute_result"
    }
   ],
   "source": [
    "r2_score(y, gbr.predict(x))"
   ]
  },
  {
   "cell_type": "code",
   "execution_count": 16,
   "metadata": {},
   "outputs": [
    {
     "data": {
      "text/plain": [
       "array([[-1.44142857e-04, -8.91558579e+00, -1.15277556e+01],\n",
       "       [-1.80757985e-04, -8.66285793e+00, -1.17547226e+01],\n",
       "       [-1.62688040e-04, -8.77202149e+00, -1.17788597e+01],\n",
       "       [-1.59881584e-04, -8.79317577e+00, -1.17232054e+01],\n",
       "       [-1.44142857e-04, -8.91558579e+00, -1.15277556e+01],\n",
       "       [-1.44142857e-04, -8.91558579e+00, -1.15277556e+01],\n",
       "       [-1.12966607e-04, -9.17975635e+00, -1.15275748e+01],\n",
       "       [-1.44142857e-04, -8.91558579e+00, -1.15277556e+01],\n",
       "       [-2.10807651e-04, -8.50919561e+00, -1.15985375e+01],\n",
       "       [-1.59881584e-04, -8.79317577e+00, -1.17232054e+01],\n",
       "       [-1.44142857e-04, -8.91558579e+00, -1.15277556e+01],\n",
       "       [-1.12966607e-04, -9.17975635e+00, -1.15275748e+01],\n",
       "       [-1.80757985e-04, -8.66285793e+00, -1.17547226e+01],\n",
       "       [-1.80673053e-04, -8.66332786e+00, -1.17551926e+01],\n",
       "       [-1.84070452e-04, -8.65509751e+00, -1.15313844e+01],\n",
       "       [-1.84004956e-04, -8.65545336e+00, -1.15317402e+01],\n",
       "       [-1.44142857e-04, -8.91558579e+00, -1.15277556e+01],\n",
       "       [-1.44142857e-04, -8.91558579e+00, -1.15277556e+01],\n",
       "       [-1.84083038e-04, -8.65502914e+00, -1.15313160e+01],\n",
       "       [-1.44142857e-04, -8.91558579e+00, -1.15277556e+01],\n",
       "       [-1.44142857e-04, -8.91558579e+00, -1.15277556e+01],\n",
       "       [-1.44142857e-04, -8.91558579e+00, -1.15277556e+01],\n",
       "       [-1.12966607e-04, -9.17975635e+00, -1.15275748e+01],\n",
       "       [-1.44142857e-04, -8.91558579e+00, -1.15277556e+01],\n",
       "       [-1.12966607e-04, -9.17975635e+00, -1.15275748e+01],\n",
       "       [-2.33035653e-04, -8.39870848e+00, -1.17549245e+01],\n",
       "       [-1.44142857e-04, -8.91558579e+00, -1.15277556e+01],\n",
       "       [-1.44142857e-04, -8.91558579e+00, -1.15277556e+01],\n",
       "       [-1.44142857e-04, -8.91558579e+00, -1.15277556e+01],\n",
       "       [-1.62688040e-04, -8.77202149e+00, -1.17788597e+01],\n",
       "       [-1.59881584e-04, -8.79317577e+00, -1.17232054e+01],\n",
       "       [-1.44142857e-04, -8.91558579e+00, -1.15277556e+01],\n",
       "       [-1.44133002e-04, -8.91565417e+00, -1.15278240e+01],\n",
       "       [-1.84088872e-04, -8.65499746e+00, -1.15312843e+01],\n",
       "       [-1.59881584e-04, -8.79317577e+00, -1.17232054e+01],\n",
       "       [-2.09559382e-04, -8.50786664e+00, -1.17790562e+01],\n",
       "       [-1.84166989e-04, -8.65457324e+00, -1.15308601e+01],\n",
       "       [-1.12966607e-04, -9.17975635e+00, -1.15275748e+01],\n",
       "       [-1.80673053e-04, -8.66332786e+00, -1.17551926e+01],\n",
       "       [-1.44142857e-04, -8.91558579e+00, -1.15277556e+01],\n",
       "       [-1.44142857e-04, -8.91558579e+00, -1.15277556e+01],\n",
       "       [-3.07031436e-04, -8.15356678e+00, -1.08565995e+01],\n",
       "       [-1.62611598e-04, -8.77249144e+00, -1.17793296e+01],\n",
       "       [-1.44142857e-04, -8.91558579e+00, -1.15277556e+01],\n",
       "       [-1.44142857e-04, -8.91558579e+00, -1.15277556e+01],\n",
       "       [-1.80757985e-04, -8.66285793e+00, -1.17547226e+01],\n",
       "       [-1.44142857e-04, -8.91558579e+00, -1.15277556e+01],\n",
       "       [-1.62688040e-04, -8.77202149e+00, -1.17788597e+01],\n",
       "       [-1.44142857e-04, -8.91558579e+00, -1.15277556e+01],\n",
       "       [-1.44142857e-04, -8.91558579e+00, -1.15277556e+01],\n",
       "       [-1.05593966e+01, -3.79433629e-05, -1.13310925e+01],\n",
       "       [-9.52333485e+00, -1.56360957e-04, -9.39398274e+00],\n",
       "       [-9.16427175e+00, -5.25183780e-04, -7.77446742e+00],\n",
       "       [-1.01404833e+01, -6.96576304e-05, -1.04074874e+01],\n",
       "       [-9.16154322e+00, -2.72938159e-04, -8.69214092e+00],\n",
       "       [-9.48794977e+00, -1.36281270e-04, -9.71265703e+00],\n",
       "       [-9.92921171e+00, -8.48927572e-05, -1.02275858e+01],\n",
       "       [-9.32024540e+00, -2.04400593e-04, -9.07242550e+00],\n",
       "       [-9.57673869e+00, -1.11464282e-04, -1.00746221e+01],\n",
       "       [-1.00303302e+01, -7.15877880e-05, -1.04998126e+01],\n",
       "       [-9.64398157e+00, -1.54540136e-04, -9.31888687e+00],\n",
       "       [-9.49674231e+00, -1.43537209e-04, -9.58968701e+00],\n",
       "       [-9.51844447e+00, -1.78182069e-04, -9.16458038e+00],\n",
       "       [-9.51130895e+00, -1.24761144e-04, -9.88873178e+00],\n",
       "       [-9.67656541e+00, -9.46205297e-05, -1.03535491e+01],\n",
       "       [-1.05034281e+01, -3.60299073e-05, -1.16652558e+01],\n",
       "       [-9.24584912e+00, -2.15905609e-04, -9.03327532e+00],\n",
       "       [-1.01553873e+01, -6.00684988e-05, -1.07614829e+01],\n",
       "       [-9.23809832e+00, -4.89446857e-04, -7.84408363e+00],\n",
       "       [-1.02489729e+01, -5.89614500e-05, -1.06557108e+01],\n",
       "       [-6.60193817e+00, -1.14023557e-01, -2.24049962e+00],\n",
       "       [-9.66278688e+00, -9.58505644e-05, -1.03423349e+01],\n",
       "       [-8.65683531e+00, -5.63024267e-03, -5.21388639e+00],\n",
       "       [-9.42890035e+00, -1.39350778e-04, -9.73842166e+00],\n",
       "       [-9.68303393e+00, -9.22593168e-05, -1.04168846e+01],\n",
       "       [-9.68945139e+00, -9.54961479e-05, -1.03022288e+01],\n",
       "       [-9.68057365e+00, -1.93715441e-04, -8.93870361e+00],\n",
       "       [-7.27806355e+00, -7.41828257e-02, -2.64778959e+00],\n",
       "       [-9.33116564e+00, -2.29988802e-04, -8.86431762e+00],\n",
       "       [-1.00432240e+01, -7.30569869e-05, -1.04285829e+01],\n",
       "       [-1.02489729e+01, -5.89535030e-05, -1.06560481e+01],\n",
       "       [-1.02489729e+01, -5.89535030e-05, -1.06560481e+01],\n",
       "       [-1.01553873e+01, -6.00684988e-05, -1.07614829e+01],\n",
       "       [-6.71879142e+00, -1.53143067e-01, -1.96052107e+00],\n",
       "       [-8.84175922e+00, -3.23430735e-04, -8.62918542e+00],\n",
       "       [-1.00808506e+01, -7.71361146e-05, -1.02527797e+01],\n",
       "       [-1.01704389e+01, -6.09046754e-05, -1.06967952e+01],\n",
       "       [-1.00089421e+01, -8.22062735e-05, -1.01990102e+01],\n",
       "       [-9.68497533e+00, -9.39149178e-05, -1.03592161e+01],\n",
       "       [-1.02489729e+01, -5.89614500e-05, -1.06557108e+01],\n",
       "       [-1.00432240e+01, -7.30569869e-05, -1.04285829e+01],\n",
       "       [-9.51959254e+00, -1.23863760e-04, -9.89439852e+00],\n",
       "       [-1.00432240e+01, -7.30569869e-05, -1.04285829e+01],\n",
       "       [-9.88565305e+00, -1.00603404e-04, -9.90953340e+00],\n",
       "       [-1.01553873e+01, -6.00684988e-05, -1.07614829e+01],\n",
       "       [-9.68497533e+00, -9.39149178e-05, -1.03592161e+01],\n",
       "       [-9.67656541e+00, -9.46205297e-05, -1.03535491e+01],\n",
       "       [-9.61686832e+00, -9.85566213e-05, -1.03511532e+01],\n",
       "       [-1.01267978e+01, -6.66238612e-05, -1.05335357e+01],\n",
       "       [-9.72183565e+00, -9.21258831e-05, -1.03447310e+01],\n",
       "       [-1.16727175e+01, -1.22408042e+01, -1.33526228e-05],\n",
       "       [-1.05536219e+01, -9.12901568e+00, -1.34580141e-04],\n",
       "       [-1.22731821e+01, -1.30156822e+01, -6.90064722e-06],\n",
       "       [-1.19775939e+01, -1.23567661e+01, -1.05840465e-05],\n",
       "       [-1.22353191e+01, -1.29794962e+01, -7.16306411e-06],\n",
       "       [-1.22731818e+01, -1.31124574e+01, -6.69539817e-06],\n",
       "       [-8.21825205e+00, -4.39249000e+00, -1.27201348e-02],\n",
       "       [-1.19923452e+01, -1.24349151e+01, -1.01687465e-05],\n",
       "       [-1.15514131e+01, -1.12237001e+01, -2.29766265e-05],\n",
       "       [-1.16874687e+01, -1.23063643e+01, -1.29213565e-05],\n",
       "       [-1.14520043e+01, -1.12818732e+01, -2.32276727e-05],\n",
       "       [-1.19803880e+01, -1.23235171e+01, -1.07119088e-05],\n",
       "       [-1.22731821e+01, -1.30156822e+01, -6.90064722e-06],\n",
       "       [-9.86084136e+00, -7.15155383e+00, -8.36173407e-04],\n",
       "       [-1.08917648e+01, -1.00544181e+01, -6.16081386e-05],\n",
       "       [-1.18071333e+01, -1.20191880e+01, -1.34787481e-05],\n",
       "       [-1.18150010e+01, -1.21174692e+01, -1.28561412e-05],\n",
       "       [-1.16874687e+01, -1.23063643e+01, -1.29213565e-05],\n",
       "       [-1.20571027e+01, -1.25068189e+01, -9.50456376e-06],\n",
       "       [-8.12029751e+00, -3.83728549e+00, -2.20916999e-02],\n",
       "       [-1.18449960e+01, -1.20553737e+01, -1.29876840e-05],\n",
       "       [-1.03447142e+01, -8.06529210e+00, -3.46481669e-04],\n",
       "       [-1.24535194e+01, -1.32886836e+01, -5.59752484e-06],\n",
       "       [-1.00824634e+01, -7.71645441e+00, -4.87362195e-04],\n",
       "       [-1.16030345e+01, -1.18348583e+01, -1.63859183e-05],\n",
       "       [-1.12838268e+01, -1.10850842e+01, -2.79144765e-05],\n",
       "       [-9.25860309e+00, -5.83108599e+00, -3.03477662e-03],\n",
       "       [-9.56425544e+00, -6.88294671e+00, -1.09591262e-03],\n",
       "       [-1.24156566e+01, -1.31557223e+01, -5.98900859e-06],\n",
       "       [-8.50359498e+00, -5.60431537e+00, -3.89224364e-03],\n",
       "       [-1.24608870e+01, -1.32886835e+01, -5.56886768e-06],\n",
       "       [-1.16874687e+01, -1.23063643e+01, -1.29213565e-05],\n",
       "       [-1.24156566e+01, -1.31557223e+01, -5.98900859e-06],\n",
       "       [-8.51504387e+00, -6.13287885e+00, -2.37356893e-03],\n",
       "       [-8.54532024e+00, -5.98021932e+00, -2.72643805e-03],\n",
       "       [-1.22731818e+01, -1.31124574e+01, -6.69539817e-06],\n",
       "       [-1.16727175e+01, -1.22408042e+01, -1.33526228e-05],\n",
       "       [-1.15697220e+01, -1.16956745e+01, -1.77777925e-05],\n",
       "       [-7.68986685e+00, -3.40518459e+00, -3.42376046e-02],\n",
       "       [-1.20279006e+01, -1.25938850e+01, -9.36789647e-06],\n",
       "       [-1.19434651e+01, -1.22065642e+01, -1.14991904e-05],\n",
       "       [-1.07688966e+01, -1.00188531e+01, -6.55981389e-05],\n",
       "       [-1.05536219e+01, -9.12901568e+00, -1.34580141e-04],\n",
       "       [-1.18449960e+01, -1.20553737e+01, -1.29876840e-05],\n",
       "       [-1.16030345e+01, -1.18348583e+01, -1.63859183e-05],\n",
       "       [-1.12165505e+01, -1.08938201e+01, -3.20229146e-05],\n",
       "       [-1.03127908e+01, -8.24961994e+00, -2.94606905e-04],\n",
       "       [-1.21017017e+01, -1.27398057e+01, -8.48215564e-06],\n",
       "       [-1.16720424e+01, -1.23078543e+01, -1.30451849e-05],\n",
       "       [-9.65320856e+00, -7.95205174e+00, -4.16245139e-04]])"
      ]
     },
     "execution_count": 16,
     "metadata": {},
     "output_type": "execute_result"
    }
   ],
   "source": [
    "gbr.predict_log_proba(x)"
   ]
  },
  {
   "cell_type": "code",
   "execution_count": 17,
   "metadata": {},
   "outputs": [
    {
     "data": {
      "text/plain": [
       "array([[9.99855868e-01, 1.34279677e-04, 9.85279277e-06],\n",
       "       [9.99819258e-01, 1.72889494e-04, 7.85215430e-06],\n",
       "       [9.99837325e-01, 1.55009912e-04, 7.66489551e-06],\n",
       "       [9.99840131e-01, 1.51765231e-04, 8.10357329e-06],\n",
       "       [9.99855868e-01, 1.34279677e-04, 9.85279277e-06],\n",
       "       [9.99855868e-01, 1.34279677e-04, 9.85279277e-06],\n",
       "       [9.99887040e-01, 1.03105652e-04, 9.85457412e-06],\n",
       "       [9.99855868e-01, 1.34279677e-04, 9.85279277e-06],\n",
       "       [9.99789215e-01, 2.01605930e-04, 9.17950265e-06],\n",
       "       [9.99840131e-01, 1.51765231e-04, 8.10357329e-06],\n",
       "       [9.99855868e-01, 1.34279677e-04, 9.85279277e-06],\n",
       "       [9.99887040e-01, 1.03105652e-04, 9.85457412e-06],\n",
       "       [9.99819258e-01, 1.72889494e-04, 7.85215430e-06],\n",
       "       [9.99819343e-01, 1.72808267e-04, 7.84846518e-06],\n",
       "       [9.99815946e-01, 1.74236408e-04, 9.81710402e-06],\n",
       "       [9.99816012e-01, 1.74174417e-04, 9.81361124e-06],\n",
       "       [9.99855868e-01, 1.34279677e-04, 9.85279277e-06],\n",
       "       [9.99855868e-01, 1.34279677e-04, 9.85279277e-06],\n",
       "       [9.99815934e-01, 1.74248321e-04, 9.81777524e-06],\n",
       "       [9.99855868e-01, 1.34279677e-04, 9.85279277e-06],\n",
       "       [9.99855868e-01, 1.34279677e-04, 9.85279277e-06],\n",
       "       [9.99855868e-01, 1.34279677e-04, 9.85279277e-06],\n",
       "       [9.99887040e-01, 1.03105652e-04, 9.85457412e-06],\n",
       "       [9.99855868e-01, 1.34279677e-04, 9.85279277e-06],\n",
       "       [9.99887040e-01, 1.03105652e-04, 9.85457412e-06],\n",
       "       [9.99766991e-01, 2.25157933e-04, 7.85056926e-06],\n",
       "       [9.99855868e-01, 1.34279677e-04, 9.85279277e-06],\n",
       "       [9.99855868e-01, 1.34279677e-04, 9.85279277e-06],\n",
       "       [9.99855868e-01, 1.34279677e-04, 9.85279277e-06],\n",
       "       [9.99837325e-01, 1.55009912e-04, 7.66489551e-06],\n",
       "       [9.99840131e-01, 1.51765231e-04, 8.10357329e-06],\n",
       "       [9.99855868e-01, 1.34279677e-04, 9.85279277e-06],\n",
       "       [9.99855877e-01, 1.34270496e-04, 9.85211912e-06],\n",
       "       [9.99815928e-01, 1.74253842e-04, 9.81808631e-06],\n",
       "       [9.99840131e-01, 1.51765231e-04, 8.10357329e-06],\n",
       "       [9.99790463e-01, 2.01874036e-04, 7.66338969e-06],\n",
       "       [9.99815850e-01, 1.74327779e-04, 9.82225221e-06],\n",
       "       [9.99887040e-01, 1.03105652e-04, 9.85457412e-06],\n",
       "       [9.99819343e-01, 1.72808267e-04, 7.84846518e-06],\n",
       "       [9.99855868e-01, 1.34279677e-04, 9.85279277e-06],\n",
       "       [9.99855868e-01, 1.34279677e-04, 9.85279277e-06],\n",
       "       [9.99693016e-01, 2.87707338e-04, 1.92769681e-05],\n",
       "       [9.99837402e-01, 1.54937083e-04, 7.66129430e-06],\n",
       "       [9.99855868e-01, 1.34279677e-04, 9.85279277e-06],\n",
       "       [9.99855868e-01, 1.34279677e-04, 9.85279277e-06],\n",
       "       [9.99819258e-01, 1.72889494e-04, 7.85215430e-06],\n",
       "       [9.99855868e-01, 1.34279677e-04, 9.85279277e-06],\n",
       "       [9.99837325e-01, 1.55009912e-04, 7.66489551e-06],\n",
       "       [9.99855868e-01, 1.34279677e-04, 9.85279277e-06],\n",
       "       [9.99855868e-01, 1.34279677e-04, 9.85279277e-06],\n",
       "       [2.59485044e-05, 9.99962057e-01, 1.19941386e-05],\n",
       "       [7.31253950e-05, 9.99843651e-01, 8.32233382e-05],\n",
       "       [1.04714627e-04, 9.99474954e-01, 4.20331269e-04],\n",
       "       [3.94497314e-05, 9.99930345e-01, 3.02054730e-05],\n",
       "       [1.05000734e-04, 9.99727099e-01, 1.67900181e-04],\n",
       "       [7.57592680e-05, 9.99863728e-01, 6.05127165e-05],\n",
       "       [4.87301943e-05, 9.99915111e-01, 3.61589596e-05],\n",
       "       [8.95919219e-05, 9.99795620e-01, 1.14787783e-04],\n",
       "       [6.93226621e-05, 9.99888542e-01, 4.21354079e-05],\n",
       "       [4.40436147e-05, 9.99928415e-01, 2.75416110e-05],\n",
       "       [6.48144770e-05, 9.99845472e-01, 8.97137181e-05],\n",
       "       [7.50960712e-05, 9.99856473e-01, 6.84308365e-05],\n",
       "       [7.34838819e-05, 9.99821834e-01, 1.04682314e-04],\n",
       "       [7.40101026e-05, 9.99875247e-01, 5.07432588e-05],\n",
       "       [6.27366090e-05, 9.99905384e-01, 3.18794443e-05],\n",
       "       [2.74422120e-05, 9.99963971e-01, 8.58704615e-06],\n",
       "       [9.65114292e-05, 9.99784118e-01, 1.19370874e-04],\n",
       "       [3.88661339e-05, 9.99939933e-01, 2.12005608e-05],\n",
       "       [9.72623766e-05, 9.99510673e-01, 3.92064721e-04],\n",
       "       [3.53938361e-05, 9.99941040e-01, 2.35658757e-05],\n",
       "       [1.35773397e-03, 8.92236937e-01, 1.06405329e-01],\n",
       "       [6.36070096e-05, 9.99904154e-01, 3.22389613e-05],\n",
       "       [1.73933883e-04, 9.94385577e-01, 5.44048867e-03],\n",
       "       [8.03675275e-05, 9.99860659e-01, 5.89735417e-05],\n",
       "       [6.23321051e-05, 9.99907745e-01, 2.99229560e-05],\n",
       "       [6.19333724e-05, 9.99904508e-01, 3.35582159e-05],\n",
       "       [6.24856488e-05, 9.99806303e-01, 1.31211031e-04],\n",
       "       [6.90521431e-04, 9.28501924e-01, 7.08075543e-02],\n",
       "       [8.86188789e-05, 9.99770038e-01, 1.41343477e-04],\n",
       "       [4.34793702e-05, 9.99926946e-01, 2.95749481e-05],\n",
       "       [3.53938364e-05, 9.99941048e-01, 2.35579288e-05],\n",
       "       [3.53938364e-05, 9.99941048e-01, 2.35579288e-05],\n",
       "       [3.88661339e-05, 9.99939933e-01, 2.12005608e-05],\n",
       "       [1.20799730e-03, 8.58006960e-01, 1.40785042e-01],\n",
       "       [1.44568196e-04, 9.99676622e-01, 1.78810241e-04],\n",
       "       [4.18737843e-05, 9.99922867e-01, 3.52593554e-05],\n",
       "       [3.82855154e-05, 9.99939097e-01, 2.26173054e-05],\n",
       "       [4.49957675e-05, 9.99917797e-01, 3.72071272e-05],\n",
       "       [6.22112112e-05, 9.99906089e-01, 3.16992967e-05],\n",
       "       [3.53938361e-05, 9.99941040e-01, 2.35658757e-05],\n",
       "       [4.34793702e-05, 9.99926946e-01, 2.95749481e-05],\n",
       "       [7.33995660e-05, 9.99876144e-01, 5.04565234e-05],\n",
       "       [4.34793702e-05, 9.99926946e-01, 2.95749481e-05],\n",
       "       [5.08997245e-05, 9.99899402e-01, 4.96986194e-05],\n",
       "       [3.88661339e-05, 9.99939933e-01, 2.12005608e-05],\n",
       "       [6.22112112e-05, 9.99906089e-01, 3.16992967e-05],\n",
       "       [6.27366090e-05, 9.99905384e-01, 3.18794443e-05],\n",
       "       [6.65958485e-05, 9.99901448e-01, 3.19559163e-05],\n",
       "       [3.99933345e-05, 9.99933378e-01, 2.66283074e-05],\n",
       "       [5.99598345e-05, 9.99907878e-01, 3.21618051e-05],\n",
       "       [8.52321025e-06, 4.82932342e-06, 9.99986647e-01],\n",
       "       [2.60987815e-05, 1.08472304e-04, 9.99865429e-01],\n",
       "       [4.67546446e-06, 2.22515895e-06, 9.99993099e-01],\n",
       "       [6.28343401e-06, 4.30055643e-06, 9.99989416e-01],\n",
       "       [4.85588531e-06, 2.30715315e-06, 9.99992837e-01],\n",
       "       [4.67546542e-06, 2.01991033e-06, 9.99993305e-01],\n",
       "       [2.69686052e-04, 1.23698898e-02, 9.87360424e-01],\n",
       "       [6.19142575e-06, 3.97726905e-06, 9.99989831e-01],\n",
       "       [9.62243566e-06, 1.33539269e-05, 9.99977024e-01],\n",
       "       [8.39840511e-06, 4.52286787e-06, 9.99987079e-01],\n",
       "       [1.06281516e-05, 1.25992514e-05, 9.99976773e-01],\n",
       "       [6.26590197e-06, 4.44594944e-06, 9.99989288e-01],\n",
       "       [4.67546446e-06, 2.22515895e-06, 9.99993099e-01],\n",
       "       [5.21784304e-05, 7.83645481e-04, 9.99164176e-01],\n",
       "       [1.86108689e-05, 4.29953720e-05, 9.99938394e-01],\n",
       "       [7.45121589e-06, 6.02744132e-06, 9.99986521e-01],\n",
       "       [7.39282230e-06, 5.46323628e-06, 9.99987144e-01],\n",
       "       [8.39840511e-06, 4.52286787e-06, 9.99987079e-01],\n",
       "       [5.80319067e-06, 3.70132792e-06, 9.99990495e-01],\n",
       "       [2.97440157e-04, 2.15520252e-02, 9.78150535e-01],\n",
       "       [7.17436695e-06, 5.81323267e-06, 9.99987012e-01],\n",
       "       [3.21623454e-05, 3.14259306e-04, 9.99653578e-01],\n",
       "       [3.90395905e-06, 1.69355012e-06, 9.99994402e-01],\n",
       "       [4.18063062e-05, 4.45437147e-04, 9.99512757e-01],\n",
       "       [9.13831506e-06, 7.24746894e-06, 9.99983614e-01],\n",
       "       [1.25746612e-05, 1.53394257e-05, 9.99972086e-01],\n",
       "       [9.52883418e-05, 2.93488800e-03, 9.96969824e-01],\n",
       "       [7.01934580e-05, 1.02511887e-03, 9.98904688e-01],\n",
       "       [4.05460786e-06, 1.93438279e-06, 9.99994011e-01],\n",
       "       [2.02738217e-04, 3.68194046e-03, 9.96115321e-01],\n",
       "       [3.87530201e-06, 1.69355017e-06, 9.99994431e-01],\n",
       "       [8.39840511e-06, 4.52286787e-06, 9.99987079e-01],\n",
       "       [4.05460786e-06, 1.93438279e-06, 9.99994011e-01],\n",
       "       [2.00430327e-04, 2.17032392e-03, 9.97629246e-01],\n",
       "       [1.94452966e-04, 2.52827172e-03, 9.97277275e-01],\n",
       "       [4.67546542e-06, 2.01991033e-06, 9.99993305e-01],\n",
       "       [8.52321025e-06, 4.82932342e-06, 9.99986647e-01],\n",
       "       [9.44786279e-06, 8.32977169e-06, 9.99982222e-01],\n",
       "       [4.57439076e-04, 3.32006909e-02, 9.66341870e-01],\n",
       "       [5.97515445e-06, 3.39269814e-06, 9.99990632e-01],\n",
       "       [6.50158167e-06, 4.99754261e-06, 9.99988501e-01],\n",
       "       [2.10439678e-05, 4.45520197e-05, 9.99934404e-01],\n",
       "       [2.60987815e-05, 1.08472304e-04, 9.99865429e-01],\n",
       "       [7.17436695e-06, 5.81323267e-06, 9.99987012e-01],\n",
       "       [9.13831506e-06, 7.24746894e-06, 9.99983614e-01],\n",
       "       [1.34497443e-05, 1.85726576e-05, 9.99967978e-01],\n",
       "       [3.32056420e-05, 2.61357871e-04, 9.99705436e-01],\n",
       "       [5.55006093e-06, 2.93205873e-06, 9.99991518e-01],\n",
       "       [8.52896620e-06, 4.51613365e-06, 9.99986955e-01],\n",
       "       [6.42191847e-05, 3.51939336e-04, 9.99583841e-01]])"
      ]
     },
     "execution_count": 17,
     "metadata": {},
     "output_type": "execute_result"
    }
   ],
   "source": [
    "gbr.predict_proba(x)"
   ]
  },
  {
   "cell_type": "code",
   "execution_count": 18,
   "metadata": {},
   "outputs": [
    {
     "data": {
      "text/plain": [
       "[<matplotlib.lines.Line2D at 0x1a3ba39c088>]"
      ]
     },
     "execution_count": 18,
     "metadata": {},
     "output_type": "execute_result"
    },
    {
     "data": {
      "image/png": "[encoded data removed]",
      "text/plain": [
       "<Figure size 432x288 with 1 Axes>"
      ]
     },
     "metadata": {
      "needs_background": "light"
     },
     "output_type": "display_data"
    }
   ],
   "source": [
    "plt.plot(range(len(gbr.train_score_)), gbr.train_score_)"
   ]
  },
  {
   "cell_type": "code",
   "execution_count": 19,
   "metadata": {},
   "outputs": [
    {
     "data": {
      "text/plain": [
       "array([0.02225373, 0.03287844, 0.55139463, 0.39347319])"
      ]
     },
     "execution_count": 19,
     "metadata": {},
     "output_type": "execute_result"
    }
   ],
   "source": [
    "gbr.feature_importances_"
   ]
  },
  {
   "cell_type": "code",
   "execution_count": 20,
   "metadata": {},
   "outputs": [
    {
     "data": {
      "text/plain": [
       "[<matplotlib.lines.Line2D at 0x1a3ba35a448>]"
      ]
     },
     "execution_count": 20,
     "metadata": {},
     "output_type": "execute_result"
    },
    {
     "data": {
      "image/png": "[encoded data removed]",
      "text/plain": [
       "<Figure size 432x288 with 1 Axes>"
      ]
     },
     "metadata": {
      "needs_background": "light"
     },
     "output_type": "display_data"
    }
   ],
   "source": [
    "plt.plot(range(len(gbr.oob_improvement_)), gbr.oob_improvement_)"
   ]
  },
  {
   "cell_type": "code",
   "execution_count": 21,
   "metadata": {},
   "outputs": [
    {
     "data": {
      "text/plain": [
       "[<matplotlib.lines.Line2D at 0x1a3ba7fef88>]"
      ]
     },
     "execution_count": 21,
     "metadata": {},
     "output_type": "execute_result"
    },
    {
     "data": {
      "image/png": "[encoded data removed]",
      "text/plain": [
       "<Figure size 432x288 with 1 Axes>"
      ]
     },
     "metadata": {
      "needs_background": "light"
     },
     "output_type": "display_data"
    }
   ],
   "source": [
    "scores = [r2_score(y, pred) for pred in gbr.staged_predict(x)]\n",
    "plt.plot(np.arange(len(scores)), scores)"
   ]
  },
  {
   "cell_type": "code",
   "execution_count": 22,
   "metadata": {},
   "outputs": [
    {
     "data": {
      "text/plain": [
       "(150, 3)"
      ]
     },
     "execution_count": 22,
     "metadata": {},
     "output_type": "execute_result"
    }
   ],
   "source": [
    "proba = [p for p in gbr.staged_predict_proba(x)]\n",
    "proba[0].shape"
   ]
  },
  {
   "cell_type": "code",
   "execution_count": null,
   "metadata": {},
   "outputs": [],
   "source": []
  }
 ],
 "metadata": {
  "kernelspec": {
   "display_name": "Python 3",
   "language": "python",
   "name": "python3"
  },
  "language_info": {
   "codemirror_mode": {
    "name": "ipython",
    "version": 3
   },
   "file_extension": ".py",
   "mimetype": "text/x-python",
   "name": "python",
   "nbconvert_exporter": "python",
   "pygments_lexer": "ipython3",
   "version": "3.7.4"
  }
 },
 "nbformat": 4,
 "nbformat_minor": 4
}
